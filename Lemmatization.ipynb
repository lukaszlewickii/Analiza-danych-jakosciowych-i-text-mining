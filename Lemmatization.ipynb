{
 "cells": [
  {
   "cell_type": "code",
   "execution_count": 3,
   "metadata": {},
   "outputs": [],
   "source": [
    "import pandas as pd\n",
    "import re"
   ]
  },
  {
   "cell_type": "code",
   "execution_count": null,
   "metadata": {},
   "outputs": [],
   "source": [
    "slownik = pd.read_table('polimorfologik-2.1.txt', sep = \";\", header = None, names = ['lemma', 'term', 'POS'])"
   ]
  },
  {
   "cell_type": "code",
   "execution_count": 12,
   "metadata": {},
   "outputs": [],
   "source": [
    "def cleaned_text(text):\n",
    "    # normalizacja tekstu\n",
    "    temp = re.sub(\"\\s{2,}\", \" \", text) #usunięcie podwójnych spacji\n",
    "    temp = re.sub(\"(\\r\\n|\\r|\\n)\", \" \", temp) #usunięcie przerw między słowami, entery\n",
    "    temp = temp.lower() #zamienia wszystkie znaki na małe litery\n",
    "    temp = re.sub(\"rt\", \"\", temp) #usunięcie retweetów\n",
    "    temp = re.sub(\"&amp\", \"\", temp) #usunięcie kodu htmlowego\n",
    "    temp = re.sub(\"#[a-z,A-Z]*\", \"\", temp) #usunięcie hasztagów\n",
    "    temp = re.sub(\"@\\w+\", \"\", temp) #usunięcie wzmianek, oznaczeń, tagowań\n",
    "    temp = re.sub(\"(f|ht)(tp)([^ ]*)\", \"\", temp) #usunięcie urlów\n",
    "    temp = re.sub(\"http(s?)([^ ]*)\", \"\", temp) #usunięcie urlów\n",
    "    temp = re.sub(\"[!\\\"#$%&'()*+,-./:;<=>?@[\\]^_`{|}~]\", \" \", temp) #usunięcie znaków specjalnych\n",
    "    temp = re.sub(\"\\d\", \"\", temp) #usunięcie cyfr\n",
    "    temp = re.sub(\"\\s{2,}\", \" \", temp) #ponowne usunięcie podwójnych spacji\n",
    "    temp = temp.strip() #usunięcie spacji lub odstępów na końcach tekstu"
   ]
  },
  {
   "cell_type": "code",
   "execution_count": 9,
   "metadata": {},
   "outputs": [
    {
     "data": {
      "text/html": [
       "<div>\n",
       "<style scoped>\n",
       "    .dataframe tbody tr th:only-of-type {\n",
       "        vertical-align: middle;\n",
       "    }\n",
       "\n",
       "    .dataframe tbody tr th {\n",
       "        vertical-align: top;\n",
       "    }\n",
       "\n",
       "    .dataframe thead th {\n",
       "        text-align: right;\n",
       "    }\n",
       "</style>\n",
       "<table border=\"1\" class=\"dataframe\">\n",
       "  <thead>\n",
       "    <tr style=\"text-align: right;\">\n",
       "      <th></th>\n",
       "      <th>lemma</th>\n",
       "      <th>term</th>\n",
       "    </tr>\n",
       "  </thead>\n",
       "  <tbody>\n",
       "    <tr>\n",
       "      <th>0</th>\n",
       "      <td>aa</td>\n",
       "      <td>aa</td>\n",
       "    </tr>\n",
       "    <tr>\n",
       "      <th>1</th>\n",
       "      <td>aap</td>\n",
       "      <td>aap</td>\n",
       "    </tr>\n",
       "    <tr>\n",
       "      <th>2</th>\n",
       "      <td>abb</td>\n",
       "      <td>abb</td>\n",
       "    </tr>\n",
       "    <tr>\n",
       "      <th>3</th>\n",
       "      <td>abba</td>\n",
       "      <td>abb</td>\n",
       "    </tr>\n",
       "    <tr>\n",
       "      <th>4</th>\n",
       "      <td>abba</td>\n",
       "      <td>abb-ach</td>\n",
       "    </tr>\n",
       "  </tbody>\n",
       "</table>\n",
       "</div>"
      ],
      "text/plain": [
       "  lemma     term\n",
       "0    aa       aa\n",
       "1   aap      aap\n",
       "2   abb      abb\n",
       "3  abba      abb\n",
       "4  abba  abb-ach"
      ]
     },
     "execution_count": 9,
     "metadata": {},
     "output_type": "execute_result"
    }
   ],
   "source": [
    "#selekcja kolumn i normalizacja słów\n",
    "slownik_wyb=slownik.loc[:, 'lemma':'term']\n",
    "slownik_m = slownik_wyb.apply(lambda x: x.str.lower(), axis = 0)\n",
    "\n",
    "slownik_m.head()"
   ]
  },
  {
   "cell_type": "code",
   "execution_count": 11,
   "metadata": {},
   "outputs": [
    {
     "data": {
      "text/html": [
       "<div>\n",
       "<style scoped>\n",
       "    .dataframe tbody tr th:only-of-type {\n",
       "        vertical-align: middle;\n",
       "    }\n",
       "\n",
       "    .dataframe tbody tr th {\n",
       "        vertical-align: top;\n",
       "    }\n",
       "\n",
       "    .dataframe thead th {\n",
       "        text-align: right;\n",
       "    }\n",
       "</style>\n",
       "<table border=\"1\" class=\"dataframe\">\n",
       "  <thead>\n",
       "    <tr style=\"text-align: right;\">\n",
       "      <th></th>\n",
       "      <th>lemma</th>\n",
       "      <th>term</th>\n",
       "    </tr>\n",
       "  </thead>\n",
       "  <tbody>\n",
       "    <tr>\n",
       "      <th>0</th>\n",
       "      <td>aa</td>\n",
       "      <td>aa</td>\n",
       "    </tr>\n",
       "    <tr>\n",
       "      <th>1</th>\n",
       "      <td>aap</td>\n",
       "      <td>aap</td>\n",
       "    </tr>\n",
       "    <tr>\n",
       "      <th>2</th>\n",
       "      <td>abb</td>\n",
       "      <td>abb</td>\n",
       "    </tr>\n",
       "    <tr>\n",
       "      <th>4</th>\n",
       "      <td>abba</td>\n",
       "      <td>abb-ach</td>\n",
       "    </tr>\n",
       "    <tr>\n",
       "      <th>5</th>\n",
       "      <td>abba</td>\n",
       "      <td>abb-ami</td>\n",
       "    </tr>\n",
       "  </tbody>\n",
       "</table>\n",
       "</div>"
      ],
      "text/plain": [
       "  lemma     term\n",
       "0    aa       aa\n",
       "1   aap      aap\n",
       "2   abb      abb\n",
       "4  abba  abb-ach\n",
       "5  abba  abb-ami"
      ]
     },
     "execution_count": 11,
     "metadata": {},
     "output_type": "execute_result"
    }
   ],
   "source": [
    "#usunięcie duplikatów słów odmienionych\n",
    "#slownik_m[slownik_m['termy'] == 'kotki']\n",
    "\n",
    "slownik_bez = slownik_m.drop_duplicates(subset = 'term')\n",
    "slownik_bez.head()"
   ]
  }
 ],
 "metadata": {
  "kernelspec": {
   "display_name": "Python 3",
   "language": "python",
   "name": "python3"
  },
  "language_info": {
   "codemirror_mode": {
    "name": "ipython",
    "version": 3
   },
   "file_extension": ".py",
   "mimetype": "text/x-python",
   "name": "python",
   "nbconvert_exporter": "python",
   "pygments_lexer": "ipython3",
   "version": "3.10.5"
  },
  "orig_nbformat": 4
 },
 "nbformat": 4,
 "nbformat_minor": 2
}
