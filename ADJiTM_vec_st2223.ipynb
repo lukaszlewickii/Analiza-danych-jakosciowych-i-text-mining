{
 "cells": [
  {
   "cell_type": "code",
   "execution_count": 3,
   "metadata": {},
   "outputs": [],
   "source": [
    "from scipy.spatial.distance import cosine\n",
    "\n",
    "import numpy as np"
   ]
  },
  {
   "attachments": {},
   "cell_type": "markdown",
   "metadata": {},
   "source": [
    "## Wczytanie wektorów\n",
    "\n",
    "Wczytaj dane z pliku `words.txt` tworząc słownik, którego kluczami będą słowa (1. element każdego wiersza) a wartościami tablica 1d wszystkich pozostałych elemntów wiersza."
   ]
  },
  {
   "cell_type": "code",
   "execution_count": 14,
   "metadata": {},
   "outputs": [],
   "source": [
    "with open('words.txt', 'r', encoding='utf-8') as f:\n",
    "    words = {}\n",
    "    \n",
    "    for _ in range(50000):\n",
    "        r = f.readline().split() #utworzy listę z kazdym wierszem\n",
    "        word = r[0]\n",
    "        vec = np.array(float(el) for el in r[1:])\n",
    "        words[word] = vec"
   ]
  },
  {
   "cell_type": "code",
   "execution_count": 27,
   "metadata": {},
   "outputs": [
    {
     "name": "stdout",
     "output_type": "stream",
     "text": [
      "50000\n",
      "<generator object <genexpr> at 0x000001965E5B1380>\n"
     ]
    }
   ],
   "source": [
    "print(len(words))\n",
    "print(words[\"city\"])"
   ]
  },
  {
   "attachments": {},
   "cell_type": "markdown",
   "metadata": {},
   "source": [
    "## Obliczenie odległości pomiędzy wybranymi słowami\n",
    "\n",
    "Stwórz funkcję, wypisze informację o odległości (cosinusowej) pomiędzy dwoma słowami. "
   ]
  },
  {
   "cell_type": "code",
   "execution_count": 29,
   "metadata": {},
   "outputs": [],
   "source": [
    "def odleglosc(word1, word2):   \n",
    "    print(f'Odległość między słowem {word1} a słowem {word2} wynosi: {cosine(words[word1], words[word2])}')"
   ]
  },
  {
   "cell_type": "code",
   "execution_count": 30,
   "metadata": {},
   "outputs": [
    {
     "ename": "ValueError",
     "evalue": "Input vector should be 1-D.",
     "output_type": "error",
     "traceback": [
      "\u001b[1;31m---------------------------------------------------------------------------\u001b[0m",
      "\u001b[1;31mValueError\u001b[0m                                Traceback (most recent call last)",
      "\u001b[1;32md:\\Desktop\\Studia\\Informatyka - II stopień\\II semestr\\Analiza danych jakościowych i text mining\\Analiza-danych-jakosciowych-i-text-mining\\ADJiTM_vec_st2223.ipynb Cell 7\u001b[0m in \u001b[0;36m1\n\u001b[1;32m----> <a href='vscode-notebook-cell:/d%3A/Desktop/Studia/Informatyka%20-%20II%20stopie%C5%84/II%20semestr/Analiza%20danych%20jako%C5%9Bciowych%20i%20text%20mining/Analiza-danych-jakosciowych-i-text-mining/ADJiTM_vec_st2223.ipynb#W6sZmlsZQ%3D%3D?line=0'>1</a>\u001b[0m odleglosc(\u001b[39m'\u001b[39m\u001b[39mapple\u001b[39m\u001b[39m'\u001b[39m, \u001b[39m'\u001b[39m\u001b[39mapple\u001b[39m\u001b[39m'\u001b[39m)\n\u001b[0;32m      <a href='vscode-notebook-cell:/d%3A/Desktop/Studia/Informatyka%20-%20II%20stopie%C5%84/II%20semestr/Analiza%20danych%20jako%C5%9Bciowych%20i%20text%20mining/Analiza-danych-jakosciowych-i-text-mining/ADJiTM_vec_st2223.ipynb#W6sZmlsZQ%3D%3D?line=1'>2</a>\u001b[0m odleglosc(\u001b[39m'\u001b[39m\u001b[39mapple\u001b[39m\u001b[39m'\u001b[39m, \u001b[39m'\u001b[39m\u001b[39mbook\u001b[39m\u001b[39m'\u001b[39m)\n\u001b[0;32m      <a href='vscode-notebook-cell:/d%3A/Desktop/Studia/Informatyka%20-%20II%20stopie%C5%84/II%20semestr/Analiza%20danych%20jako%C5%9Bciowych%20i%20text%20mining/Analiza-danych-jakosciowych-i-text-mining/ADJiTM_vec_st2223.ipynb#W6sZmlsZQ%3D%3D?line=2'>3</a>\u001b[0m odleglosc(\u001b[39m'\u001b[39m\u001b[39mapple\u001b[39m\u001b[39m'\u001b[39m, \u001b[39m'\u001b[39m\u001b[39mjump\u001b[39m\u001b[39m'\u001b[39m)\n",
      "\u001b[1;32md:\\Desktop\\Studia\\Informatyka - II stopień\\II semestr\\Analiza danych jakościowych i text mining\\Analiza-danych-jakosciowych-i-text-mining\\ADJiTM_vec_st2223.ipynb Cell 7\u001b[0m in \u001b[0;36m2\n\u001b[0;32m      <a href='vscode-notebook-cell:/d%3A/Desktop/Studia/Informatyka%20-%20II%20stopie%C5%84/II%20semestr/Analiza%20danych%20jako%C5%9Bciowych%20i%20text%20mining/Analiza-danych-jakosciowych-i-text-mining/ADJiTM_vec_st2223.ipynb#W6sZmlsZQ%3D%3D?line=0'>1</a>\u001b[0m \u001b[39mdef\u001b[39;00m \u001b[39modleglosc\u001b[39m(word1, word2):   \n\u001b[1;32m----> <a href='vscode-notebook-cell:/d%3A/Desktop/Studia/Informatyka%20-%20II%20stopie%C5%84/II%20semestr/Analiza%20danych%20jako%C5%9Bciowych%20i%20text%20mining/Analiza-danych-jakosciowych-i-text-mining/ADJiTM_vec_st2223.ipynb#W6sZmlsZQ%3D%3D?line=1'>2</a>\u001b[0m     \u001b[39mprint\u001b[39m(\u001b[39mf\u001b[39m\u001b[39m'\u001b[39m\u001b[39mOdległość między słowem \u001b[39m\u001b[39m{\u001b[39;00mword1\u001b[39m}\u001b[39;00m\u001b[39m a słowem \u001b[39m\u001b[39m{\u001b[39;00mword2\u001b[39m}\u001b[39;00m\u001b[39m wynosi: \u001b[39m\u001b[39m{\u001b[39;00mcosine(words[word1], words[word2])\u001b[39m}\u001b[39;00m\u001b[39m'\u001b[39m)\n",
      "File \u001b[1;32mc:\\Users\\Łukasz\\AppData\\Local\\Programs\\Python\\Python310\\lib\\site-packages\\scipy\\spatial\\distance.py:668\u001b[0m, in \u001b[0;36mcosine\u001b[1;34m(u, v, w)\u001b[0m\n\u001b[0;32m    626\u001b[0m \u001b[39m\"\"\"\u001b[39;00m\n\u001b[0;32m    627\u001b[0m \u001b[39mCompute the Cosine distance between 1-D arrays.\u001b[39;00m\n\u001b[0;32m    628\u001b[0m \n\u001b[1;32m   (...)\u001b[0m\n\u001b[0;32m    663\u001b[0m \n\u001b[0;32m    664\u001b[0m \u001b[39m\"\"\"\u001b[39;00m\n\u001b[0;32m    665\u001b[0m \u001b[39m# cosine distance is also referred to as 'uncentered correlation',\u001b[39;00m\n\u001b[0;32m    666\u001b[0m \u001b[39m#   or 'reflective correlation'\u001b[39;00m\n\u001b[0;32m    667\u001b[0m \u001b[39m# clamp the result to 0-2\u001b[39;00m\n\u001b[1;32m--> 668\u001b[0m \u001b[39mreturn\u001b[39;00m \u001b[39mmax\u001b[39m(\u001b[39m0\u001b[39m, \u001b[39mmin\u001b[39m(correlation(u, v, w\u001b[39m=\u001b[39;49mw, centered\u001b[39m=\u001b[39;49m\u001b[39mFalse\u001b[39;49;00m), \u001b[39m2.0\u001b[39m))\n",
      "File \u001b[1;32mc:\\Users\\Łukasz\\AppData\\Local\\Programs\\Python\\Python310\\lib\\site-packages\\scipy\\spatial\\distance.py:608\u001b[0m, in \u001b[0;36mcorrelation\u001b[1;34m(u, v, w, centered)\u001b[0m\n\u001b[0;32m    575\u001b[0m \u001b[39mdef\u001b[39;00m \u001b[39mcorrelation\u001b[39m(u, v, w\u001b[39m=\u001b[39m\u001b[39mNone\u001b[39;00m, centered\u001b[39m=\u001b[39m\u001b[39mTrue\u001b[39;00m):\n\u001b[0;32m    576\u001b[0m     \u001b[39m\"\"\"\u001b[39;00m\n\u001b[0;32m    577\u001b[0m \u001b[39m    Compute the correlation distance between two 1-D arrays.\u001b[39;00m\n\u001b[0;32m    578\u001b[0m \n\u001b[1;32m   (...)\u001b[0m\n\u001b[0;32m    606\u001b[0m \n\u001b[0;32m    607\u001b[0m \u001b[39m    \"\"\"\u001b[39;00m\n\u001b[1;32m--> 608\u001b[0m     u \u001b[39m=\u001b[39m _validate_vector(u)\n\u001b[0;32m    609\u001b[0m     v \u001b[39m=\u001b[39m _validate_vector(v)\n\u001b[0;32m    610\u001b[0m     \u001b[39mif\u001b[39;00m w \u001b[39mis\u001b[39;00m \u001b[39mnot\u001b[39;00m \u001b[39mNone\u001b[39;00m:\n",
      "File \u001b[1;32mc:\\Users\\Łukasz\\AppData\\Local\\Programs\\Python\\Python310\\lib\\site-packages\\scipy\\spatial\\distance.py:301\u001b[0m, in \u001b[0;36m_validate_vector\u001b[1;34m(u, dtype)\u001b[0m\n\u001b[0;32m    299\u001b[0m \u001b[39mif\u001b[39;00m u\u001b[39m.\u001b[39mndim \u001b[39m==\u001b[39m \u001b[39m1\u001b[39m:\n\u001b[0;32m    300\u001b[0m     \u001b[39mreturn\u001b[39;00m u\n\u001b[1;32m--> 301\u001b[0m \u001b[39mraise\u001b[39;00m \u001b[39mValueError\u001b[39;00m(\u001b[39m\"\u001b[39m\u001b[39mInput vector should be 1-D.\u001b[39m\u001b[39m\"\u001b[39m)\n",
      "\u001b[1;31mValueError\u001b[0m: Input vector should be 1-D."
     ]
    }
   ],
   "source": [
    "odleglosc('apple', 'apple')\n",
    "odleglosc('apple', 'book')\n",
    "odleglosc('apple', 'jump')\n",
    "odleglosc('apple', 'precision')\n",
    "odleglosc('apple', '+8')"
   ]
  },
  {
   "attachments": {},
   "cell_type": "markdown",
   "metadata": {},
   "source": [
    "## Wyznaczenie słów podobnych/niepodobnych do wskazanego słowa\n",
    "\n",
    "1. Stwórz funkcję, która zwróci listę `n` słów najbardziej podobnych do wskazanego słowa.\n",
    "2. Stwórz funkcję, która zwróci listę `n` słów najbardziej niepodobnych do wskazanego słowa."
   ]
  },
  {
   "cell_type": "code",
   "execution_count": 61,
   "metadata": {},
   "outputs": [],
   "source": []
  },
  {
   "cell_type": "code",
   "execution_count": 55,
   "metadata": {},
   "outputs": [
    {
     "name": "stdout",
     "output_type": "stream",
     "text": [
      "['england', 'sussex', 'cornwall', 'scotland', 'wales', 'dorset', 'essex', 'lancashire', 'gloucester', 'surrey']\n",
      "['=6', 'ssw', 'l3', '+6', '=4', 'snf', 'turnovr', 'butyl', '=2', '+8']\n"
     ]
    }
   ],
   "source": [
    "print(podobnych(\"book\"))\n",
    "print(niepodobnych(\"book\"))"
   ]
  },
  {
   "cell_type": "code",
   "execution_count": 38,
   "metadata": {},
   "outputs": [
    {
     "name": "stdout",
     "output_type": "stream",
     "text": [
      "['read', 're-read', 'reread', 'write', 'reading', 'see', 'reader', 'learn', 'article', 'aloud']\n",
      "['specretail', 'goals2', '0–2', 'selsoviet', '1–4', 'goals1', 'selo', 'estádio', 'oblast', 'stadion']\n"
     ]
    }
   ],
   "source": [
    "print(podobnych(\"read\"))\n",
    "print(niepodobnych(\"read\"))"
   ]
  },
  {
   "cell_type": "code",
   "execution_count": 130,
   "metadata": {},
   "outputs": [
    {
     "name": "stdout",
     "output_type": "stream",
     "text": [
      "['king', 'queen', 'prince', 'throne', 'conqueror', 'monarch', 'emperor', 'pretender', 'regent', 'reign']\n",
      "['fte', '/home', 'segmentation', 'codeproject', 'datetitleauthor', 'okcupid', 'backlinks', 'snf', 'kaskus', 'curation']\n"
     ]
    }
   ],
   "source": [
    "print(podobnych(\"king\"))"
   ]
  },
  {
   "attachments": {},
   "cell_type": "markdown",
   "metadata": {},
   "source": [
    "##  Algebra słów"
   ]
  },
  {
   "attachments": {},
   "cell_type": "markdown",
   "metadata": {},
   "source": [
    "Jakie słowo jest najbardziej podobne do słowa: `words[\"king\"] - words[\"man\"] + words[\"woman\"]`\n",
    "\n",
    "Stwórz fukcję, która zwróci `n` (domyślnie 3) słów najbardziej podobnych do podanego wektora."
   ]
  },
  {
   "cell_type": "code",
   "execution_count": null,
   "metadata": {},
   "outputs": [],
   "source": []
  },
  {
   "cell_type": "code",
   "execution_count": 5,
   "metadata": {},
   "outputs": [
    {
     "data": {
      "text/plain": [
       "['queen', 'king', 'empress']"
      ]
     },
     "execution_count": 5,
     "metadata": {},
     "output_type": "execute_result"
    }
   ],
   "source": [
    "najblizsze(words[\"king\"] - words[\"man\"] + words[\"woman\"])"
   ]
  },
  {
   "cell_type": "code",
   "execution_count": 6,
   "metadata": {},
   "outputs": [
    {
     "data": {
      "text/plain": [
       "['aunt', 'uncle', 'grandmother']"
      ]
     },
     "execution_count": 6,
     "metadata": {},
     "output_type": "execute_result"
    }
   ],
   "source": [
    "najblizsze(words[\"uncle\"]- words[\"man\"] + words[\"woman\"])"
   ]
  },
  {
   "cell_type": "code",
   "execution_count": 7,
   "metadata": {},
   "outputs": [
    {
     "data": {
      "text/plain": [
       "['warsaw', 'poland', 'kraków']"
      ]
     },
     "execution_count": 7,
     "metadata": {},
     "output_type": "execute_result"
    }
   ],
   "source": [
    "najblizsze(words[\"paris\"]- words[\"france\"] + words[\"poland\"])"
   ]
  },
  {
   "cell_type": "code",
   "execution_count": 8,
   "metadata": {},
   "outputs": [
    {
     "data": {
      "text/plain": [
       "['nurse', 'hospital', 'therapist']"
      ]
     },
     "execution_count": 8,
     "metadata": {},
     "output_type": "execute_result"
    }
   ],
   "source": [
    "najblizsze(words[\"teacher\"]- words[\"school\"] + words[\"hospital\"])"
   ]
  },
  {
   "cell_type": "code",
   "execution_count": 9,
   "metadata": {},
   "outputs": [
    {
     "data": {
      "text/plain": [
       "['burritos', 'pizza', 'taco']"
      ]
     },
     "execution_count": 9,
     "metadata": {},
     "output_type": "execute_result"
    }
   ],
   "source": [
    "najblizsze(words[\"ramen\"]- words[\"japan\"] + words[\"america\"])"
   ]
  },
  {
   "cell_type": "code",
   "execution_count": 10,
   "metadata": {},
   "outputs": [
    {
     "data": {
      "text/plain": [
       "['swam', 'swims', 'swim']"
      ]
     },
     "execution_count": 10,
     "metadata": {},
     "output_type": "execute_result"
    }
   ],
   "source": [
    "najblizsze(words[\"swam\"] - words[\"sang\"] + words[\"sing\"])"
   ]
  },
  {
   "cell_type": "code",
   "execution_count": 11,
   "metadata": {},
   "outputs": [
    {
     "data": {
      "text/plain": [
       "['politics', 'activism', 'political']"
      ]
     },
     "execution_count": 11,
     "metadata": {},
     "output_type": "execute_result"
    }
   ],
   "source": [
    "najblizsze(words[\"politics\"] - words[\"lies\"])"
   ]
  },
  {
   "cell_type": "code",
   "execution_count": 12,
   "metadata": {},
   "outputs": [
    {
     "data": {
      "text/plain": [
       "['library', 'branch', 'auditorium']"
      ]
     },
     "execution_count": 12,
     "metadata": {},
     "output_type": "execute_result"
    }
   ],
   "source": [
    "najblizsze(words[\"library\"] - words[\"books\"])"
   ]
  },
  {
   "cell_type": "code",
   "execution_count": 14,
   "metadata": {},
   "outputs": [
    {
     "data": {
      "text/plain": [
       "['mediating', 'democratization', 'mediator']"
      ]
     },
     "execution_count": 14,
     "metadata": {},
     "output_type": "execute_result"
    }
   ],
   "source": [
    "najblizsze(words[\"human\"] - words[\"animal\"])"
   ]
  }
 ],
 "metadata": {
  "kernelspec": {
   "display_name": "Python 3 (ipykernel)",
   "language": "python",
   "name": "python3"
  },
  "language_info": {
   "codemirror_mode": {
    "name": "ipython",
    "version": 3
   },
   "file_extension": ".py",
   "mimetype": "text/x-python",
   "name": "python",
   "nbconvert_exporter": "python",
   "pygments_lexer": "ipython3",
   "version": "3.10.5"
  }
 },
 "nbformat": 4,
 "nbformat_minor": 4
}
