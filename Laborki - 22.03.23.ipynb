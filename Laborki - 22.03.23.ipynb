{
 "cells": [
  {
   "cell_type": "markdown",
   "metadata": {},
   "source": [
    "## Stemming tekstu"
   ]
  },
  {
   "cell_type": "markdown",
   "metadata": {},
   "source": [
    "### Przygotowanie środowiska"
   ]
  },
  {
   "cell_type": "code",
   "execution_count": 40,
   "metadata": {},
   "outputs": [],
   "source": [
    "import re\n",
    "import requests\n",
    "from nltk.stem.snowball import SnowballStemmer\n",
    "import matplotlib.pyplot as plt"
   ]
  },
  {
   "cell_type": "markdown",
   "metadata": {},
   "source": [
    "### Przygotowanie tekstu"
   ]
  },
  {
   "cell_type": "code",
   "execution_count": 41,
   "metadata": {},
   "outputs": [],
   "source": [
    "tekst = [\"@ayyytylerb 4+8=12<24>35 that is 3/6 7^5 ~so true drink lots of coffee|tea\",\n",
    "\"RT @bryzy_brib: Senior March tmw morning at 7:25 A.M. in the SENIOR lot. Get up early, make yo coffee/breakfast, cus this will only happen ?\",\n",
    "\"If you believe in #gunsense tomorrow would be a very good day to have your coffee any place BUT @Starbucks Guns+Coffee=#nosense @MomsDemand\",\n",
    "\"My cute coffee mug - 5.8$. http://t.co/2udvMU6XIG\",\n",
    "\"RT @slaredo21: I wish we had Starbucks here... Cause coffee dates in the morning sound perff!\",\n",
    "\"Does anyone ever get a cup of coffee before a cocktail??\",\n",
    "\"I like my coffee like I like my women...black, bitter, and preferably fair trade. I love #Archer\",\n",
    "\"@dreamwwediva ya didn't have coffee did ya?\",\n",
    "\"RT @iDougherty42: I just want\\r\\n some coffee.\",\n",
    "\"RT @Dorkv76: I can't care before coffee.\",\n",
    "\"No lie I wouldn't mind coming home smelling like coffee\",\n",
    "\"RT @JonasWorldFeed: Play Ping Pong with Joe. Take a tour of the stage with Nick. Have coffee with Kevin. Charity auction: https://t.co/VTkK?\",\n",
    "\"Have I ever told any of you that Tate Donovan bought my stepmom coffee?\",\n",
    "\"RT @JonasWorldFeed: Play Ping Pong with Joe. Take a tour of the stage with Nick. Have coffee with Kevin. Charity auction: https://t.co/VTkK?\",\n",
    "\"@HeatherWhaley I was about 2 joke it takes 2 hands to hold hot coffee...then I read headline! #Don'tDrinkNShoot\",\n",
    "\"RT @MoveTheSticks: Charlie Whitehurst looks like he should be working \\nat a coffee shop in Portland or hosting a renovation show on HGTV.\",\n",
    "\"Coffee always makes everything better.\",\n",
    "\"RT @AdelaideReview: Food For Thought: @Annabelleats shares a delicious Venison and Porcini Mushroom Pie Recipe. http://t.co/N8O7vqFKWN http?\",\n",
    "\"RT @LittleMelss: lmfao!!!@bryanlaca: nahhh Melanie u is fa sho like an ummm a Coffee table ;) ) yeeeee lmaoo\",\n",
    "\"I wonder if Christian Colon will get a cup of coffee once the rosters\\r expand to 40 man in September. Really nothing to lose by doing so.\"]"
   ]
  },
  {
   "cell_type": "markdown",
   "metadata": {},
   "source": [
    "#### 1. Normalizacja"
   ]
  },
  {
   "cell_type": "code",
   "execution_count": 42,
   "metadata": {},
   "outputs": [],
   "source": [
    "import re\n",
    "\n",
    "def czysc_tekst(tekst):\n",
    "    \n",
    "    temp = re.sub(\"\\s{2,}\", \" \", tekst)\n",
    "    temp = re.sub(\"(\\r\\n|\\r|\\n)\", \" \", temp) \n",
    "    temp = temp.lower() \n",
    "    temp = re.sub(\"rt\", \"\", temp) \n",
    "    temp = re.sub(\"&amp\", \"\", temp) \n",
    "    temp = re.sub(\"#[a-z,A-Z]*\", \"\", temp)\n",
    "    temp = re.sub(\"@\\w+\", \"\", temp) \n",
    "    temp = re.sub(\"(f|ht)(tp)([^ ]*)\", \"\", temp) \n",
    "    temp = re.sub(\"http(s?)([^ ]*)\", \"\", temp)\n",
    "    temp = re.sub(\"[!\\\"#$%&'()*+,-./:;<=>?@[\\]^_`{|}~]\", \" \", temp) \n",
    "    temp = re.sub(\"\\d\", \"\", temp) \n",
    "    temp = re.sub(\"\\s{2,}\", \" \", temp) \n",
    "    temp = temp.strip()\n",
    "    return temp"
   ]
  },
  {
   "cell_type": "code",
   "execution_count": 43,
   "metadata": {},
   "outputs": [
    {
     "data": {
      "text/plain": [
       "['that is so true drink lots of coffee tea',\n",
       " 'senior march tmw morning at a m in the senior lot get up early make yo coffee breakfast cus this will only happen',\n",
       " 'if you believe in tomorrow would be a very good day to have your coffee any place but guns coffee',\n",
       " 'my cute coffee mug',\n",
       " 'i wish we had starbucks here cause coffee dates in the morning sound perff',\n",
       " 'does anyone ever get a cup of coffee before a cocktail',\n",
       " 'i like my coffee like i like my women black bitter and preferably fair trade i love',\n",
       " 'ya didn t have coffee did ya',\n",
       " 'i just want some coffee',\n",
       " 'i can t care before coffee',\n",
       " 'no lie i wouldn t mind coming home smelling like coffee',\n",
       " 'play ping pong with joe take a tour of the stage with nick have coffee with kevin charity auction',\n",
       " 'have i ever told any of you that tate donovan bought my stepmom coffee',\n",
       " 'play ping pong with joe take a tour of the stage with nick have coffee with kevin charity auction',\n",
       " 'i was about joke it takes hands to hold hot coffee then i read headline tdrinknshoot',\n",
       " 'charlie whitehurst looks like he should be working at a coffee shop in poland or hosting a renovation show on hgtv',\n",
       " 'coffee always makes everything better',\n",
       " 'food for thought shares a delicious venison and porcini mushroom pie recipe',\n",
       " 'lmfao nahhh melanie u is fa sho like an ummm a coffee table yeeeee lmaoo',\n",
       " 'i wonder if christian colon will get a cup of coffee once the rosters expand to man in september really nothing to lose by doing so']"
      ]
     },
     "execution_count": 43,
     "metadata": {},
     "output_type": "execute_result"
    }
   ],
   "source": [
    "czysty = [czysc_tekst(el) for el in tekst]\n",
    "czysty"
   ]
  },
  {
   "cell_type": "markdown",
   "metadata": {},
   "source": [
    "Usunięcie duplikatów"
   ]
  },
  {
   "cell_type": "code",
   "execution_count": 44,
   "metadata": {},
   "outputs": [
    {
     "data": {
      "text/plain": [
       "['i wish we had starbucks here cause coffee dates in the morning sound perff',\n",
       " 'that is so true drink lots of coffee tea',\n",
       " 'if you believe in tomorrow would be a very good day to have your coffee any place but guns coffee',\n",
       " 'i can t care before coffee',\n",
       " 'no lie i wouldn t mind coming home smelling like coffee',\n",
       " 'senior march tmw morning at a m in the senior lot get up early make yo coffee breakfast cus this will only happen',\n",
       " 'play ping pong with joe take a tour of the stage with nick have coffee with kevin charity auction',\n",
       " 'food for thought shares a delicious venison and porcini mushroom pie recipe',\n",
       " 'i like my coffee like i like my women black bitter and preferably fair trade i love',\n",
       " 'does anyone ever get a cup of coffee before a cocktail',\n",
       " 'have i ever told any of you that tate donovan bought my stepmom coffee',\n",
       " 'my cute coffee mug',\n",
       " 'coffee always makes everything better',\n",
       " 'charlie whitehurst looks like he should be working at a coffee shop in poland or hosting a renovation show on hgtv',\n",
       " 'i wonder if christian colon will get a cup of coffee once the rosters expand to man in september really nothing to lose by doing so',\n",
       " 'i was about joke it takes hands to hold hot coffee then i read headline tdrinknshoot',\n",
       " 'i just want some coffee',\n",
       " 'ya didn t have coffee did ya',\n",
       " 'lmfao nahhh melanie u is fa sho like an ummm a coffee table yeeeee lmaoo']"
      ]
     },
     "execution_count": 44,
     "metadata": {},
     "output_type": "execute_result"
    }
   ],
   "source": [
    "czysty_set = list(set(czysty))\n",
    "czysty_set"
   ]
  },
  {
   "cell_type": "code",
   "execution_count": 45,
   "metadata": {},
   "outputs": [
    {
     "data": {
      "text/plain": [
       "['that is so true drink lots of coffee tea',\n",
       " 'senior march tmw morning at a m in the senior lot get up early make yo coffee breakfast cus this will only happen',\n",
       " 'if you believe in tomorrow would be a very good day to have your coffee any place but guns coffee',\n",
       " 'my cute coffee mug',\n",
       " 'i wish we had starbucks here cause coffee dates in the morning sound perff',\n",
       " 'does anyone ever get a cup of coffee before a cocktail',\n",
       " 'i like my coffee like i like my women black bitter and preferably fair trade i love',\n",
       " 'ya didn t have coffee did ya',\n",
       " 'i just want some coffee',\n",
       " 'i can t care before coffee',\n",
       " 'no lie i wouldn t mind coming home smelling like coffee',\n",
       " 'play ping pong with joe take a tour of the stage with nick have coffee with kevin charity auction',\n",
       " 'have i ever told any of you that tate donovan bought my stepmom coffee',\n",
       " 'i was about joke it takes hands to hold hot coffee then i read headline tdrinknshoot',\n",
       " 'charlie whitehurst looks like he should be working at a coffee shop in poland or hosting a renovation show on hgtv',\n",
       " 'coffee always makes everything better',\n",
       " 'food for thought shares a delicious venison and porcini mushroom pie recipe',\n",
       " 'lmfao nahhh melanie u is fa sho like an ummm a coffee table yeeeee lmaoo',\n",
       " 'i wonder if christian colon will get a cup of coffee once the rosters expand to man in september really nothing to lose by doing so']"
      ]
     },
     "execution_count": 45,
     "metadata": {},
     "output_type": "execute_result"
    }
   ],
   "source": [
    "czysty_dict = list(dict.fromkeys(czysty))\n",
    "czysty_dict"
   ]
  },
  {
   "cell_type": "code",
   "execution_count": 46,
   "metadata": {},
   "outputs": [],
   "source": [
    "# czysty_set == czysty_dict"
   ]
  },
  {
   "cell_type": "code",
   "execution_count": 47,
   "metadata": {},
   "outputs": [],
   "source": [
    "czysty = list(dict.fromkeys(czysty))"
   ]
  },
  {
   "cell_type": "markdown",
   "metadata": {},
   "source": [
    "#### 2. Tokenizacja"
   ]
  },
  {
   "cell_type": "code",
   "execution_count": 48,
   "metadata": {},
   "outputs": [],
   "source": [
    "tokeny = [re.split(\"\\s\", el) for el in czysty]\n",
    "# tokeny"
   ]
  },
  {
   "cell_type": "markdown",
   "metadata": {},
   "source": [
    "#### 3. Stop lista"
   ]
  },
  {
   "cell_type": "code",
   "execution_count": 49,
   "metadata": {},
   "outputs": [],
   "source": [
    "stopwords = [\"a\", \"able\", \"about\", \"across\", \"after\", \"all\", \"almost\", \"also\", \"am\", \"among\", \"an\", \"and\", \"any\", \"are\", \"as\", \"at\", \"be\", \"because\", \"been\", \"but\", \"by\", \"can\", \"cannot\", \"could\", \"dear\", \"did\", \"do\", \"does\", \"either\", \"else\", \"ever\", \"every\", \"for\", \"from\", \"get\", \"got\", \"had\", \"has\", \"have\", \"he\", \"her\", \"hers\", \"him\", \"his\", \"how\", \"however\", \"i\", \"if\", \"in\", \"into\", \"is\", \"it\", \"its\", \"just\", \"least\", \"let\", \"like\", \"likely\", \"may\", \"me\", \"might\", \"most\", \"must\", \"my\", \"neither\", \"no\", \"nor\", \"not\", \"of\", \"off\", \"often\", \"on\", \"only\", \"or\", \"other\", \"our\", \"own\", \"rather\", \"said\", \"say\", \"says\", \"she\", \"should\", \"since\", \"so\", \"some\", \"than\", \"that\", \"the\", \"their\", \"them\", \"then\", \"there\", \"these\", \"they\", \"this\", \"tis\", \"to\", \"too\", \"twas\", \"us\", \"wants\", \"was\", \"we\", \"were\", \"what\", \"when\", \"where\", \"which\", \"while\", \"who\", \"whom\", \"why\", \"will\", \"with\", \"would\", \"yet\", \"you\", \"your\"]"
   ]
  },
  {
   "cell_type": "code",
   "execution_count": 52,
   "metadata": {},
   "outputs": [],
   "source": [
    "sciezka = \"https://www.textfixer.com/tutorials/common-english-words.txt\"\n",
    "\n",
    "response = requests.get(sciezka)\n",
    "stopwords = response.text.split(\",\")\n",
    "stopwords = stopwords + [\"ya\", \"yeeeee\", \"yo\", \"ummm\", \"coffee\", \"coffe\", \"t\"] \n",
    "# stopwords"
   ]
  },
  {
   "cell_type": "code",
   "execution_count": 53,
   "metadata": {},
   "outputs": [
    {
     "data": {
      "text/plain": [
       "[['true', 'drink', 'lots', 'tea'],\n",
       " ['senior',\n",
       "  'march',\n",
       "  'tmw',\n",
       "  'morning',\n",
       "  'm',\n",
       "  'senior',\n",
       "  'lot',\n",
       "  'up',\n",
       "  'early',\n",
       "  'make',\n",
       "  'breakfast',\n",
       "  'cus',\n",
       "  'happen'],\n",
       " ['believe', 'tomorrow', 'very', 'good', 'day', 'place', 'guns'],\n",
       " ['cute', 'mug'],\n",
       " ['wish', 'starbucks', 'here', 'cause', 'dates', 'morning', 'sound', 'perff'],\n",
       " ['anyone', 'cup', 'before', 'cocktail'],\n",
       " ['women', 'black', 'bitter', 'preferably', 'fair', 'trade', 'love'],\n",
       " ['didn'],\n",
       " ['want'],\n",
       " ['care', 'before'],\n",
       " ['lie', 'wouldn', 'mind', 'coming', 'home', 'smelling'],\n",
       " ['play',\n",
       "  'ping',\n",
       "  'pong',\n",
       "  'joe',\n",
       "  'take',\n",
       "  'tour',\n",
       "  'stage',\n",
       "  'nick',\n",
       "  'kevin',\n",
       "  'charity',\n",
       "  'auction'],\n",
       " ['told', 'tate', 'donovan', 'bought', 'stepmom'],\n",
       " ['joke', 'takes', 'hands', 'hold', 'hot', 'read', 'headline', 'tdrinknshoot'],\n",
       " ['charlie',\n",
       "  'whitehurst',\n",
       "  'looks',\n",
       "  'working',\n",
       "  'shop',\n",
       "  'poland',\n",
       "  'hosting',\n",
       "  'renovation',\n",
       "  'show',\n",
       "  'hgtv'],\n",
       " ['always', 'makes', 'everything', 'better'],\n",
       " ['food',\n",
       "  'thought',\n",
       "  'shares',\n",
       "  'delicious',\n",
       "  'venison',\n",
       "  'porcini',\n",
       "  'mushroom',\n",
       "  'pie',\n",
       "  'recipe'],\n",
       " ['lmfao', 'nahhh', 'melanie', 'u', 'fa', 'sho', 'table', 'lmaoo'],\n",
       " ['wonder',\n",
       "  'christian',\n",
       "  'colon',\n",
       "  'cup',\n",
       "  'once',\n",
       "  'rosters',\n",
       "  'expand',\n",
       "  'man',\n",
       "  'september',\n",
       "  'really',\n",
       "  'nothing',\n",
       "  'lose',\n",
       "  'doing']]"
      ]
     },
     "execution_count": 53,
     "metadata": {},
     "output_type": "execute_result"
    }
   ],
   "source": [
    "termy = [[t for t in el if t not in stopwords] for el in tokeny]\n",
    "termy"
   ]
  },
  {
   "cell_type": "markdown",
   "metadata": {},
   "source": [
    "#### 4. Stemming"
   ]
  },
  {
   "cell_type": "code",
   "execution_count": 54,
   "metadata": {},
   "outputs": [
    {
     "name": "stdout",
     "output_type": "stream",
     "text": [
      "arabic danish dutch english finnish french german hungarian italian norwegian porter portuguese romanian russian spanish swedish\n",
      "run\n"
     ]
    }
   ],
   "source": [
    "print(\" \".join(SnowballStemmer.languages))\n",
    "\n",
    "stemmer = SnowballStemmer(\"english\")\n",
    "print(stemmer.stem(\"running\"))\n",
    "# print(stemmer.stem([\"running\", \"morning\"]))"
   ]
  },
  {
   "cell_type": "code",
   "execution_count": 55,
   "metadata": {},
   "outputs": [
    {
     "data": {
      "text/plain": [
       "[['true', 'drink', 'lot', 'tea'],\n",
       " ['senior',\n",
       "  'march',\n",
       "  'tmw',\n",
       "  'morn',\n",
       "  'm',\n",
       "  'senior',\n",
       "  'lot',\n",
       "  'up',\n",
       "  'earli',\n",
       "  'make',\n",
       "  'breakfast',\n",
       "  'cus',\n",
       "  'happen'],\n",
       " ['believ', 'tomorrow', 'veri', 'good', 'day', 'place', 'gun'],\n",
       " ['cute', 'mug'],\n",
       " ['wish', 'starbuck', 'here', 'caus', 'date', 'morn', 'sound', 'perff'],\n",
       " ['anyon', 'cup', 'befor', 'cocktail'],\n",
       " ['women', 'black', 'bitter', 'prefer', 'fair', 'trade', 'love'],\n",
       " ['didn'],\n",
       " ['want'],\n",
       " ['care', 'befor'],\n",
       " ['lie', 'wouldn', 'mind', 'come', 'home', 'smell'],\n",
       " ['play',\n",
       "  'ping',\n",
       "  'pong',\n",
       "  'joe',\n",
       "  'take',\n",
       "  'tour',\n",
       "  'stage',\n",
       "  'nick',\n",
       "  'kevin',\n",
       "  'chariti',\n",
       "  'auction'],\n",
       " ['told', 'tate', 'donovan', 'bought', 'stepmom'],\n",
       " ['joke', 'take', 'hand', 'hold', 'hot', 'read', 'headlin', 'tdrinknshoot'],\n",
       " ['charli',\n",
       "  'whitehurst',\n",
       "  'look',\n",
       "  'work',\n",
       "  'shop',\n",
       "  'poland',\n",
       "  'host',\n",
       "  'renov',\n",
       "  'show',\n",
       "  'hgtv'],\n",
       " ['alway', 'make', 'everyth', 'better'],\n",
       " ['food',\n",
       "  'thought',\n",
       "  'share',\n",
       "  'delici',\n",
       "  'venison',\n",
       "  'porcini',\n",
       "  'mushroom',\n",
       "  'pie',\n",
       "  'recip'],\n",
       " ['lmfao', 'nahhh', 'melani', 'u', 'fa', 'sho', 'tabl', 'lmaoo'],\n",
       " ['wonder',\n",
       "  'christian',\n",
       "  'colon',\n",
       "  'cup',\n",
       "  'onc',\n",
       "  'roster',\n",
       "  'expand',\n",
       "  'man',\n",
       "  'septemb',\n",
       "  'realli',\n",
       "  'noth',\n",
       "  'lose',\n",
       "  'do']]"
      ]
     },
     "execution_count": 55,
     "metadata": {},
     "output_type": "execute_result"
    }
   ],
   "source": [
    "termy_stem = [[stemmer.stem(t) for t in el] for el in termy]\n",
    "termy_stem"
   ]
  },
  {
   "cell_type": "markdown",
   "metadata": {},
   "source": [
    "#### 5. Zliczenie wystąpień"
   ]
  },
  {
   "cell_type": "code",
   "execution_count": 56,
   "metadata": {},
   "outputs": [
    {
     "name": "stdout",
     "output_type": "stream",
     "text": [
      "Wszystkich termów jest 123 ale unikatowych jest 116\n",
      "['noth', 'recip', 'man', 'told', 'tdrinknshoot', 'work', 'anyon', 'trade', 'share', 'stage', 'make', 'hot', 'day', 'auction', 'look', 'tour', 'renov', 'care', 'whitehurst', 'nahhh', 'melani', 'nick', 'tmw', 'show', 'kevin', 'happen', 'good', 'home', 'wonder', 'love', 'prefer', 'poland', 'wish', 'christian', 'shop', 'expand', 'everyth', 'tea', 'm', 'breakfast', 'food', 'tomorrow', 'befor', 'thought', 'roster', 'drink', 'mug', 'septemb', 'perff', 'u', 'do', 'joke', 'hgtv', 'mushroom', 'host', 'caus', 'lie', 'joe', 'stepmom', 'gun', 'bitter', 'women', 'true', 'wouldn', 'starbuck', 'date', 'take', 'hand', 'chariti', 'cus', 'lmfao', 'lose', 'cup', 'delici', 'pong', 'fa', 'lot', 'charli', 'sho', 'here', 'didn', 'veri', 'tate', 'porcini', 'colon', 'headlin', 'donovan', 'play', 'lmaoo', 'better', 'cute', 'realli', 'earli', 'believ', 'mind', 'tabl', 'venison', 'cocktail', 'read', 'pie', 'fair', 'march', 'alway', 'want', 'senior', 'place', 'up', 'smell', 'black', 'morn', 'bought', 'hold', 'come', 'onc', 'sound', 'ping']\n"
     ]
    }
   ],
   "source": [
    "termy = [term for el in termy_stem for term in el]\n",
    "unikaty = list(set(termy))\n",
    "\n",
    "print(f'Wszystkich termów jest {len(termy)} ale unikatowych jest {len(unikaty)}')\n",
    "print(unikaty)"
   ]
  },
  {
   "cell_type": "code",
   "execution_count": 57,
   "metadata": {},
   "outputs": [],
   "source": [
    "bow = {unikat: termy.count(unikat) for unikat in unikaty}"
   ]
  },
  {
   "cell_type": "code",
   "execution_count": 58,
   "metadata": {},
   "outputs": [
    {
     "data": {
      "text/plain": [
       "{'make': 2, 'befor': 2, 'take': 2, 'cup': 2, 'lot': 2, 'senior': 2, 'morn': 2}"
      ]
     },
     "execution_count": 58,
     "metadata": {},
     "output_type": "execute_result"
    }
   ],
   "source": [
    "bow_naj = {unikat: liczba for unikat, liczba in bow.items() if liczba >= 2}\n",
    "\n",
    "bow_naj_sort = {unikat: liczba for unikat, liczba in sorted(bow_naj.items(), key=lambda el: el[1])} #, reverse = True\n",
    "bow_naj_sort"
   ]
  },
  {
   "cell_type": "markdown",
   "metadata": {},
   "source": [
    "#### 6. Wizualizacja"
   ]
  },
  {
   "cell_type": "code",
   "execution_count": 59,
   "metadata": {},
   "outputs": [
    {
     "data": {
      "image/png": "[encoded data removed]",
      "text/plain": [
       "<Figure size 640x480 with 1 Axes>"
      ]
     },
     "metadata": {},
     "output_type": "display_data"
    }
   ],
   "source": [
    "import matplotlib.pyplot as plt\n",
    "\n",
    "plt.barh(range(len(bow_naj_sort)), bow_naj_sort.values(), align='center')\n",
    "plt.yticks(range(len(bow_naj_sort)), list(bow_naj_sort.keys()))\n",
    "\n",
    "plt.show()"
   ]
  },
  {
   "cell_type": "markdown",
   "metadata": {},
   "source": [
    "### Zadanie domowe"
   ]
  },
  {
   "cell_type": "markdown",
   "metadata": {},
   "source": [
    "#### Zadanie 1.\n",
    "\n",
    "Znajdź oraz rozpoznaj bibliotekę (`Python`) pozwalającą na utworzenie chmury słów w `Python`."
   ]
  },
  {
   "cell_type": "code",
   "execution_count": null,
   "metadata": {},
   "outputs": [],
   "source": []
  },
  {
   "attachments": {},
   "cell_type": "markdown",
   "metadata": {},
   "source": [
    "#### Zadanie 2.\n",
    "\n",
    "Przygotuj chmurę słów (lub wykres kolumnowy dla 50 najczęściej używanych słów) w oparciu o *bag-of-words*. Dla pozyskanych przez Ciebie dokumentów (w języku angielskim). Korpus ma odzwierciedlać pewną dychotomię - konflikt, dyskusję dwóch stron pewnego zjawiska np: zmian klimatycznych, lockdownu, ulubionego sportu (rugby vs. piłka nożna). Mogą to być: teksty tweetów na wybrane tematy (min 1000 tweetów dla każdej strony); dwóch grup artykułów (po 3-5 dla każdej strony, każdy ponad 2000 wyrazów); wypowiedzi dwóch ekspertów czy polityków (po 3-5 dla każdej strony, każdy ponad 2000 wyrazów).\n",
    "\n",
    "Analizę wykonaj w dwóch wersjach:\n",
    "\n",
    "1. dwa teksty traktowane są osobno - jako dwa osobne korpusy, przygotuj dwie wizualizacje dla każdej strony osobno.\n",
    "2. dwa teksty traktowane są jako jeden i wykonaj wizualizację prezentującą:\n",
    "\n",
    "    - termów charakterystycznych dla każdej ze stron (termy pojawiające się w wypowiedziach jednej strony ale nie pojawiające się w wypowiedziach drugiej strony),\n",
    "    - termów wspólnych dla dwóch stron (termy pojawiające się w wypowiedziach jednej i drugiej strony jednocześnie)."
   ]
  }
 ],
 "metadata": {
  "kernelspec": {
   "display_name": "Python 3 (ipykernel)",
   "language": "python",
   "name": "python3"
  },
  "language_info": {
   "codemirror_mode": {
    "name": "ipython",
    "version": 3
   },
   "file_extension": ".py",
   "mimetype": "text/x-python",
   "name": "python",
   "nbconvert_exporter": "python",
   "pygments_lexer": "ipython3",
   "version": "3.10.5"
  },
  "toc": {
   "base_numbering": 1,
   "nav_menu": {},
   "number_sections": true,
   "sideBar": true,
   "skip_h1_title": false,
   "title_cell": "Table of Contents",
   "title_sidebar": "Contents",
   "toc_cell": false,
   "toc_position": {},
   "toc_section_display": true,
   "toc_window_display": false
  }
 },
 "nbformat": 4,
 "nbformat_minor": 4
}
