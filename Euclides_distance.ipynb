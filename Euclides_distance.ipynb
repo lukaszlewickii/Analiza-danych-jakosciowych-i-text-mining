{
 "cells": [
  {
   "cell_type": "code",
   "execution_count": 5,
   "metadata": {},
   "outputs": [],
   "source": [
    "from numpy import linalg as LA"
   ]
  },
  {
   "cell_type": "code",
   "execution_count": 1,
   "metadata": {},
   "outputs": [],
   "source": [
    "doc1 = [\"jesień\", \"nie\", \"nie\"]\n",
    "doc2 = [\"jesień\", \"nie\", \"zima\", \"zima\"]"
   ]
  },
  {
   "cell_type": "code",
   "execution_count": 4,
   "metadata": {},
   "outputs": [
    {
     "name": "stdout",
     "output_type": "stream",
     "text": [
      "nie           2    1\n",
      "jesień        1    1\n",
      "zima          0    2\n"
     ]
    }
   ],
   "source": [
    "from collections import Counter\n",
    "\n",
    "# Lista unikalnych słów\n",
    "unique_words = list(set(doc1 + doc2))\n",
    "\n",
    "# Utwórz macierz złożoną z list zer o wymiarach len(unique_words) x 2\n",
    "word_matrix = [[0]*2 for i in range(len(unique_words))]\n",
    "\n",
    "# Uzupełnienie macierzy wystąpień słów\n",
    "for i, word in enumerate(unique_words):\n",
    "    word_matrix[i][0] = Counter(doc1)[word]\n",
    "    word_matrix[i][1] = Counter(doc2)[word]\n",
    "\n",
    "# Wyświetl wynik w postaci tabeli\n",
    "#print(\"Słowo doc1 doc2\")\n",
    "for i, word in enumerate(unique_words):\n",
    "    print(f\"{word:10}{word_matrix[i][0]:5}{word_matrix[i][1]:5}\")"
   ]
  },
  {
   "attachments": {},
   "cell_type": "markdown",
   "metadata": {},
   "source": [
    "Miara euklidesowa"
   ]
  },
  {
   "cell_type": "code",
   "execution_count": 7,
   "metadata": {},
   "outputs": [
    {
     "data": {
      "text/plain": [
       "3.3166247903554"
      ]
     },
     "execution_count": 7,
     "metadata": {},
     "output_type": "execute_result"
    }
   ],
   "source": [
    "LA.norm(word_matrix)"
   ]
  }
 ],
 "metadata": {
  "kernelspec": {
   "display_name": "Python 3",
   "language": "python",
   "name": "python3"
  },
  "language_info": {
   "codemirror_mode": {
    "name": "ipython",
    "version": 3
   },
   "file_extension": ".py",
   "mimetype": "text/x-python",
   "name": "python",
   "nbconvert_exporter": "python",
   "pygments_lexer": "ipython3",
   "version": "3.10.5"
  },
  "orig_nbformat": 4
 },
 "nbformat": 4,
 "nbformat_minor": 2
}
