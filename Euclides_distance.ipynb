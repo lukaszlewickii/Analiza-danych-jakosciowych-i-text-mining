{
 "cells": [
  {
   "cell_type": "code",
   "execution_count": 3,
   "metadata": {},
   "outputs": [],
   "source": [
    "from numpy import linalg as LA"
   ]
  },
  {
   "cell_type": "code",
   "execution_count": 17,
   "metadata": {},
   "outputs": [],
   "source": [
    "doc1 = [\"jesień\", \"nie\", \"nie\"]\n",
    "doc2 = [\"jesień\", \"nie\", \"zima\", \"zima\"]"
   ]
  },
  {
   "cell_type": "code",
   "execution_count": 18,
   "metadata": {},
   "outputs": [
    {
     "name": "stdout",
     "output_type": "stream",
     "text": [
      "nie           2    1\n",
      "jesień        1    1\n",
      "zima          0    2\n"
     ]
    }
   ],
   "source": [
    "from collections import Counter\n",
    "\n",
    "# Lista unikalnych słów\n",
    "unique_words = list(set(doc1 + doc2))\n",
    "\n",
    "# Utwórz macierz złożoną z list zer o wymiarach len(unique_words) x 2\n",
    "word_matrix = [[0]*2 for i in range(len(unique_words))]\n",
    "\n",
    "# Uzupełnienie macierzy wystąpień słów\n",
    "for i, word in enumerate(unique_words):\n",
    "    word_matrix[i][0] = Counter(doc1)[word]\n",
    "    word_matrix[i][1] = Counter(doc2)[word]\n",
    "\n",
    "# Wyświetl wynik w postaci tabeli\n",
    "#print(\"Słowo doc1 doc2\")\n",
    "for i, word in enumerate(unique_words):\n",
    "    print(f\"{word:10}{word_matrix[i][0]:5}{word_matrix[i][1]:5}\")"
   ]
  },
  {
   "attachments": {},
   "cell_type": "markdown",
   "metadata": {},
   "source": [
    "Miara euklidesowa"
   ]
  },
  {
   "cell_type": "code",
   "execution_count": 7,
   "metadata": {},
   "outputs": [
    {
     "ename": "NameError",
     "evalue": "name 'word_matrix' is not defined",
     "output_type": "error",
     "traceback": [
      "\u001b[1;31m---------------------------------------------------------------------------\u001b[0m",
      "\u001b[1;31mNameError\u001b[0m                                 Traceback (most recent call last)",
      "\u001b[1;32md:\\Desktop\\Studia\\Informatyka - II stopień\\II semestr\\Analiza danych jakościowych i text mining\\Analiza-danych-jakosciowych-i-text-mining\\Euclides_distance.ipynb Cell 5\u001b[0m in \u001b[0;36m4\n\u001b[0;32m      <a href='vscode-notebook-cell:/d%3A/Desktop/Studia/Informatyka%20-%20II%20stopie%C5%84/II%20semestr/Analiza%20danych%20jako%C5%9Bciowych%20i%20text%20mining/Analiza-danych-jakosciowych-i-text-mining/Euclides_distance.ipynb#W4sZmlsZQ%3D%3D?line=0'>1</a>\u001b[0m d1\u001b[39m=\u001b[39m[\u001b[39m1\u001b[39m,\u001b[39m2\u001b[39m,\u001b[39m0\u001b[39m]\n\u001b[0;32m      <a href='vscode-notebook-cell:/d%3A/Desktop/Studia/Informatyka%20-%20II%20stopie%C5%84/II%20semestr/Analiza%20danych%20jako%C5%9Bciowych%20i%20text%20mining/Analiza-danych-jakosciowych-i-text-mining/Euclides_distance.ipynb#W4sZmlsZQ%3D%3D?line=1'>2</a>\u001b[0m d2\u001b[39m=\u001b[39m[\u001b[39m1\u001b[39m,\u001b[39m1\u001b[39m,\u001b[39m2\u001b[39m]\n\u001b[1;32m----> <a href='vscode-notebook-cell:/d%3A/Desktop/Studia/Informatyka%20-%20II%20stopie%C5%84/II%20semestr/Analiza%20danych%20jako%C5%9Bciowych%20i%20text%20mining/Analiza-danych-jakosciowych-i-text-mining/Euclides_distance.ipynb#W4sZmlsZQ%3D%3D?line=3'>4</a>\u001b[0m LA\u001b[39m.\u001b[39mnorm(word_matrix)\n\u001b[0;32m      <a href='vscode-notebook-cell:/d%3A/Desktop/Studia/Informatyka%20-%20II%20stopie%C5%84/II%20semestr/Analiza%20danych%20jako%C5%9Bciowych%20i%20text%20mining/Analiza-danych-jakosciowych-i-text-mining/Euclides_distance.ipynb#W4sZmlsZQ%3D%3D?line=4'>5</a>\u001b[0m LA\u001b[39m.\u001b[39mnorm(d1,d2)\n",
      "\u001b[1;31mNameError\u001b[0m: name 'word_matrix' is not defined"
     ]
    }
   ],
   "source": [
    "d1=[1,2,0]\n",
    "d2=[1,1,2]\n",
    "\n",
    "LA.norm(word_matrix)\n",
    "LA.norm(d1,d2)\n"
   ]
  },
  {
   "cell_type": "code",
   "execution_count": null,
   "metadata": {},
   "outputs": [],
   "source": [
    "# from math import sqrt\n",
    "# sqrt(sum(d1-d2)**2)"
   ]
  },
  {
   "cell_type": "code",
   "execution_count": 29,
   "metadata": {},
   "outputs": [
    {
     "ename": "TypeError",
     "evalue": "can't multiply sequence by non-int of type 'tuple'",
     "output_type": "error",
     "traceback": [
      "\u001b[1;31m---------------------------------------------------------------------------\u001b[0m",
      "\u001b[1;31mTypeError\u001b[0m                                 Traceback (most recent call last)",
      "\u001b[1;32md:\\Desktop\\Studia\\Informatyka - II stopień\\II semestr\\Analiza danych jakościowych i text mining\\Analiza-danych-jakosciowych-i-text-mining\\Euclides_distance.ipynb Cell 7\u001b[0m in \u001b[0;36m3\n\u001b[0;32m      <a href='vscode-notebook-cell:/d%3A/Desktop/Studia/Informatyka%20-%20II%20stopie%C5%84/II%20semestr/Analiza%20danych%20jako%C5%9Bciowych%20i%20text%20mining/Analiza-danych-jakosciowych-i-text-mining/Euclides_distance.ipynb#X10sZmlsZQ%3D%3D?line=0'>1</a>\u001b[0m \u001b[39mfrom\u001b[39;00m \u001b[39mmath\u001b[39;00m \u001b[39mimport\u001b[39;00m sqrt\n\u001b[1;32m----> <a href='vscode-notebook-cell:/d%3A/Desktop/Studia/Informatyka%20-%20II%20stopie%C5%84/II%20semestr/Analiza%20danych%20jako%C5%9Bciowych%20i%20text%20mining/Analiza-danych-jakosciowych-i-text-mining/Euclides_distance.ipynb#X10sZmlsZQ%3D%3D?line=2'>3</a>\u001b[0m cos_licz \u001b[39m=\u001b[39m \u001b[39msum\u001b[39m(d1\u001b[39m*\u001b[39md2)\n\u001b[0;32m      <a href='vscode-notebook-cell:/d%3A/Desktop/Studia/Informatyka%20-%20II%20stopie%C5%84/II%20semestr/Analiza%20danych%20jako%C5%9Bciowych%20i%20text%20mining/Analiza-danych-jakosciowych-i-text-mining/Euclides_distance.ipynb#X10sZmlsZQ%3D%3D?line=3'>4</a>\u001b[0m cos_mian \u001b[39m=\u001b[39m sqrt(\u001b[39msum\u001b[39m(d1\u001b[39m*\u001b[39md1))\u001b[39m*\u001b[39msqrt(\u001b[39msum\u001b[39m(d2\u001b[39m*\u001b[39md2))\n\u001b[0;32m      <a href='vscode-notebook-cell:/d%3A/Desktop/Studia/Informatyka%20-%20II%20stopie%C5%84/II%20semestr/Analiza%20danych%20jako%C5%9Bciowych%20i%20text%20mining/Analiza-danych-jakosciowych-i-text-mining/Euclides_distance.ipynb#X10sZmlsZQ%3D%3D?line=4'>5</a>\u001b[0m \u001b[39m1\u001b[39m\u001b[39m-\u001b[39mcos_licz\u001b[39m/\u001b[39mcos_mian\n",
      "\u001b[1;31mTypeError\u001b[0m: can't multiply sequence by non-int of type 'tuple'"
     ]
    }
   ],
   "source": [
    "from math import sqrt\n",
    "\n",
    "cos_licz = sum(d1*d2)\n",
    "cos_mian = sqrt(sum(d1*d1))*sqrt(sum(d2*d2))\n",
    "1-cos_licz/cos_mian"
   ]
  },
  {
   "cell_type": "code",
   "execution_count": 14,
   "metadata": {},
   "outputs": [
    {
     "ename": "TypeError",
     "evalue": "unsupported operand type(s) for &: 'types.GenericAlias' and 'types.GenericAlias'",
     "output_type": "error",
     "traceback": [
      "\u001b[1;31m---------------------------------------------------------------------------\u001b[0m",
      "\u001b[1;31mTypeError\u001b[0m                                 Traceback (most recent call last)",
      "\u001b[1;32md:\\Desktop\\Studia\\Informatyka - II stopień\\II semestr\\Analiza danych jakościowych i text mining\\Analiza-danych-jakosciowych-i-text-mining\\Euclides_distance.ipynb Cell 8\u001b[0m in \u001b[0;36m3\n\u001b[0;32m      <a href='vscode-notebook-cell:/d%3A/Desktop/Studia/Informatyka%20-%20II%20stopie%C5%84/II%20semestr/Analiza%20danych%20jako%C5%9Bciowych%20i%20text%20mining/Analiza-danych-jakosciowych-i-text-mining/Euclides_distance.ipynb#X10sZmlsZQ%3D%3D?line=0'>1</a>\u001b[0m \u001b[39m#Miara Jaccarda\u001b[39;00m\n\u001b[1;32m----> <a href='vscode-notebook-cell:/d%3A/Desktop/Studia/Informatyka%20-%20II%20stopie%C5%84/II%20semestr/Analiza%20danych%20jako%C5%9Bciowych%20i%20text%20mining/Analiza-danych-jakosciowych-i-text-mining/Euclides_distance.ipynb#X10sZmlsZQ%3D%3D?line=2'>3</a>\u001b[0m jacc_licznik \u001b[39m=\u001b[39m \u001b[39mset\u001b[39m[\u001b[39m\"\u001b[39m\u001b[39mjesień\u001b[39m\u001b[39m\"\u001b[39m, \u001b[39m\"\u001b[39m\u001b[39mnie\u001b[39m\u001b[39m\"\u001b[39m, \u001b[39m\"\u001b[39m\u001b[39mnie\u001b[39m\u001b[39m\"\u001b[39m] \u001b[39m&\u001b[39m \u001b[39mset\u001b[39m[\u001b[39m\"\u001b[39m\u001b[39mjesień\u001b[39m\u001b[39m\"\u001b[39m, \u001b[39m\"\u001b[39m\u001b[39mnie\u001b[39m\u001b[39m\"\u001b[39m, \u001b[39m\"\u001b[39m\u001b[39mzima\u001b[39m\u001b[39m\"\u001b[39m, \u001b[39m\"\u001b[39m\u001b[39mzima\u001b[39m\u001b[39m\"\u001b[39m]\n",
      "\u001b[1;31mTypeError\u001b[0m: unsupported operand type(s) for &: 'types.GenericAlias' and 'types.GenericAlias'"
     ]
    }
   ],
   "source": [
    "#Miara Jaccarda\n",
    "\n",
    "jacc_licznik = set[\"jesień\", \"nie\", \"nie\"] & set[\"jesień\", \"nie\", \"zima\", \"zima\"]"
   ]
  }
 ],
 "metadata": {
  "kernelspec": {
   "display_name": "Python 3",
   "language": "python",
   "name": "python3"
  },
  "language_info": {
   "codemirror_mode": {
    "name": "ipython",
    "version": 3
   },
   "file_extension": ".py",
   "mimetype": "text/x-python",
   "name": "python",
   "nbconvert_exporter": "python",
   "pygments_lexer": "ipython3",
   "version": "3.10.5"
  },
  "orig_nbformat": 4
 },
 "nbformat": 4,
 "nbformat_minor": 2
}
