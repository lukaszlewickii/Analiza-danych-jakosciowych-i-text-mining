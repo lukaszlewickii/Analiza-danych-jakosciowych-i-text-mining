{
 "cells": [
  {
   "cell_type": "code",
   "execution_count": 3,
   "metadata": {},
   "outputs": [],
   "source": [
    "import numpy as np\n",
    "import random"
   ]
  },
  {
   "cell_type": "code",
   "execution_count": 61,
   "metadata": {},
   "outputs": [],
   "source": [
    "termy = (\"linux\", \"kernel\", \"test\", \"benzyna\", \"sprzeglo\", \"sterowniczy\")\n",
    "praw_watek = (0.800, 0.190, 0.005)\n",
    "praw_term_watek = ((0.320, 0.310, 0.300, 0.010, 0.010, 0.050),\n",
    "                   (0.004, 0.016, 0.130, 0.360, 0.310, 0.180),\n",
    "                   (0.170, 0.160, 0.180, 0.160, 0.170, 0.160))\n",
    "\n",
    "liczba_termow = len(termy)\n",
    "liczba_watkow = len(praw_watek)"
   ]
  },
  {
   "cell_type": "code",
   "execution_count": 19,
   "metadata": {},
   "outputs": [
    {
     "name": "stdout",
     "output_type": "stream",
     "text": [
      "linux\n"
     ]
    }
   ],
   "source": [
    "index1 = np.random.choice(len(termy))\n",
    "losowy_term = termy[index1]\n",
    "\n",
    "print(losowy_term)"
   ]
  },
  {
   "cell_type": "code",
   "execution_count": 57,
   "metadata": {},
   "outputs": [
    {
     "name": "stdout",
     "output_type": "stream",
     "text": [
      "1\n"
     ]
    }
   ],
   "source": [
    "#Rzucamy kostką do gry, wynik mówi nam, z którego wątku będzie pobrane słowo\n",
    "index2 = np.random.choice(len(praw_watek))\n",
    "losowy_watek = praw_watek[index2]\n",
    "\n",
    "print(index2)"
   ]
  },
  {
   "cell_type": "code",
   "execution_count": 69,
   "metadata": {},
   "outputs": [
    {
     "ename": "IndexError",
     "evalue": "tuple index out of range",
     "output_type": "error",
     "traceback": [
      "\u001b[1;31m---------------------------------------------------------------------------\u001b[0m",
      "\u001b[1;31mIndexError\u001b[0m                                Traceback (most recent call last)",
      "\u001b[1;32mUntitled-1.ipynb Cell 5\u001b[0m in \u001b[0;36m5\n\u001b[0;32m      <a href='vscode-notebook-cell:Untitled-1.ipynb?jupyter-notebook#W6sdW50aXRsZWQ%3D?line=2'>3</a>\u001b[0m \u001b[39mfor\u001b[39;00m watek \u001b[39min\u001b[39;00m \u001b[39mrange\u001b[39m(liczba_watkow):\n\u001b[0;32m      <a href='vscode-notebook-cell:Untitled-1.ipynb?jupyter-notebook#W6sdW50aXRsZWQ%3D?line=3'>4</a>\u001b[0m     watek \u001b[39m+\u001b[39m\u001b[39m=\u001b[39m \u001b[39m1\u001b[39m\n\u001b[1;32m----> <a href='vscode-notebook-cell:Untitled-1.ipynb?jupyter-notebook#W6sdW50aXRsZWQ%3D?line=4'>5</a>\u001b[0m     prawdopodobienstwo \u001b[39m=\u001b[39m praw_term_watek[watek]\n\u001b[0;32m      <a href='vscode-notebook-cell:Untitled-1.ipynb?jupyter-notebook#W6sdW50aXRsZWQ%3D?line=5'>6</a>\u001b[0m     wybrane_termy \u001b[39m=\u001b[39m np\u001b[39m.\u001b[39mrandom\u001b[39m.\u001b[39mchoice(liczba_termow)\n",
      "\u001b[1;31mIndexError\u001b[0m: tuple index out of range"
     ]
    }
   ],
   "source": [
    "#Proces ten jest powtarzany dla wszystkich 50 słów w dokumencie\n",
    "\n",
    "for watek in range(liczba_watkow):\n",
    "    watek += 1\n",
    "    prawdopodobienstwo = praw_term_watek[watek]\n",
    "    wybrane_termy = np.random.choice(liczba_termow)\n",
    "    "
   ]
  },
  {
   "cell_type": "code",
   "execution_count": 70,
   "metadata": {},
   "outputs": [],
   "source": [
    "def gen(term, watki, term_watku):\n",
    "    nr_watek = int(np.random.choice(list(range(len(watki))), 1, p = watki))\n",
    "    termy_los = str(np.random.choice(term, 1, p = term_watku[nr_watek])[0])\n",
    "    return(nr_watek, termy_los)"
   ]
  }
 ],
 "metadata": {
  "kernelspec": {
   "display_name": "Python 3",
   "language": "python",
   "name": "python3"
  },
  "language_info": {
   "codemirror_mode": {
    "name": "ipython",
    "version": 3
   },
   "file_extension": ".py",
   "mimetype": "text/x-python",
   "name": "python",
   "nbconvert_exporter": "python",
   "pygments_lexer": "ipython3",
   "version": "3.10.5"
  },
  "orig_nbformat": 4
 },
 "nbformat": 4,
 "nbformat_minor": 2
}
