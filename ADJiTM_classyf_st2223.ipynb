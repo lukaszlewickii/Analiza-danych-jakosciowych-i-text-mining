{
 "cells": [
  {
   "attachments": {},
   "cell_type": "markdown",
   "metadata": {},
   "source": [
    "## Dane"
   ]
  },
  {
   "cell_type": "code",
   "execution_count": 1,
   "metadata": {},
   "outputs": [],
   "source": [
    "import pandas as pd"
   ]
  },
  {
   "cell_type": "code",
   "execution_count": 5,
   "metadata": {},
   "outputs": [],
   "source": [
    "spam = pd.read_csv('spam.csv', on_bad_lines= 'skip')"
   ]
  },
  {
   "cell_type": "code",
   "execution_count": 6,
   "metadata": {},
   "outputs": [
    {
     "data": {
      "text/html": [
       "<div>\n",
       "<style scoped>\n",
       "    .dataframe tbody tr th:only-of-type {\n",
       "        vertical-align: middle;\n",
       "    }\n",
       "\n",
       "    .dataframe tbody tr th {\n",
       "        vertical-align: top;\n",
       "    }\n",
       "\n",
       "    .dataframe thead th {\n",
       "        text-align: right;\n",
       "    }\n",
       "</style>\n",
       "<table border=\"1\" class=\"dataframe\">\n",
       "  <thead>\n",
       "    <tr style=\"text-align: right;\">\n",
       "      <th></th>\n",
       "      <th></th>\n",
       "      <th></th>\n",
       "      <th></th>\n",
       "      <th></th>\n",
       "      <th></th>\n",
       "      <th></th>\n",
       "      <th></th>\n",
       "      <th></th>\n",
       "      <th></th>\n",
       "      <th>Column1;make;address;all;num3d;our;over;remove;internet;order;mail;receive;will;people;report;addresses;free;business;email;you;credit;your;font;num000;money;hp;hpl;george;num650;lab;labs;telnet;num857;data;num415;num85;technology;num1999;parts;pm;direct;cs;meeting;original;project;re;edu;table;conference;charSemicolon;charRoundbracket;charSquarebracket;charExclamation;charDollar;charHash;capitalAve;capitalLong;capitalTotal;type</th>\n",
       "    </tr>\n",
       "  </thead>\n",
       "  <tbody>\n",
       "    <tr>\n",
       "      <th>1;0;0</th>\n",
       "      <th>64;0</th>\n",
       "      <th>64;0;0</th>\n",
       "      <th>32;0;0;0;0;0;0;0</th>\n",
       "      <th>64;0;0;0;0</th>\n",
       "      <th>32;0;1</th>\n",
       "      <th>29;1</th>\n",
       "      <th>93;0;0</th>\n",
       "      <th>96;0;0;0;0;0;0;0;0;0;0;0;0;0;0;0;0;0;0;0;0;0;0;0;0;0;0;0;0;0;0;0</th>\n",
       "      <th>778;0;0;3</th>\n",
       "      <td>756;61;278;spam</td>\n",
       "    </tr>\n",
       "    <tr>\n",
       "      <th>6;0;0;0;0;1</th>\n",
       "      <th>85;0;0;1</th>\n",
       "      <th>85;0;0;0;0;0;0;0;0;0;0;0;0;0;0;0;0;0;0;0;0;0;0;0;0;0;0;0;0;0;0;0;0;0;0;0;0;0;0;0;0;0;0</th>\n",
       "      <th>223;0;0;0;0;3;15;54;spam</th>\n",
       "      <th>NaN</th>\n",
       "      <th>NaN</th>\n",
       "      <th>NaN</th>\n",
       "      <th>NaN</th>\n",
       "      <th>NaN</th>\n",
       "      <th>NaN</th>\n",
       "      <td>NaN</td>\n",
       "    </tr>\n",
       "    <tr>\n",
       "      <th>8;0;0;0;0;1</th>\n",
       "      <th>88;0;0;1</th>\n",
       "      <th>88;0;0;0;0;0;0;0;0;0;0;0;0;0;0;0;0;0;0;0;0;0;0;0;0;0;0;0;0;0;0;0;0;0;0;0;0;0;0;0;0;0;0</th>\n",
       "      <th>206;0;0;0;0;2</th>\n",
       "      <th>45;11;49;spam</th>\n",
       "      <th>NaN</th>\n",
       "      <th>NaN</th>\n",
       "      <th>NaN</th>\n",
       "      <th>NaN</th>\n",
       "      <th>NaN</th>\n",
       "      <td>NaN</td>\n",
       "    </tr>\n",
       "    <tr>\n",
       "      <th>11;0;0;0;0;0;0;0</th>\n",
       "      <th>96;0;0;1</th>\n",
       "      <th>92;0</th>\n",
       "      <th>96;0;0;0;0;0;0;0</th>\n",
       "      <th>96;3</th>\n",
       "      <th>84;0;0</th>\n",
       "      <th>96;0;0;0;0;0;0;0;0;0;0;0;0;0;0;0;0;0;0;0</th>\n",
       "      <th>96;0;0;0;0;0;0;0;0;0;0;0;0</th>\n",
       "      <th>462;0;0;1</th>\n",
       "      <th>312;6;21;spam</th>\n",
       "      <td>NaN</td>\n",
       "    </tr>\n",
       "    <tr>\n",
       "      <th>14;0;0;0;0;0</th>\n",
       "      <th>9;0;0</th>\n",
       "      <th>9;0;0;0</th>\n",
       "      <th>9;0</th>\n",
       "      <th>9;0;0</th>\n",
       "      <th>9;0;0;0;0;0;2</th>\n",
       "      <th>72;0;0</th>\n",
       "      <th>9;0;0;0;0;0;0;0;0;0;0;0;0;0;0;0;0;0;0;0;0;0;0;0;0;0;0;0;0;0;0;0;0;0;2</th>\n",
       "      <th>083;7;25;spam</th>\n",
       "      <th>NaN</th>\n",
       "      <td>NaN</td>\n",
       "    </tr>\n",
       "  </tbody>\n",
       "</table>\n",
       "</div>"
      ],
      "text/plain": [
       "                                                                                                                                                                                                                                                                                               Column1;make;address;all;num3d;our;over;remove;internet;order;mail;receive;will;people;report;addresses;free;business;email;you;credit;your;font;num000;money;hp;hpl;george;num650;lab;labs;telnet;num857;data;num415;num85;technology;num1999;parts;pm;direct;cs;meeting;original;project;re;edu;table;conference;charSemicolon;charRoundbracket;charSquarebracket;charExclamation;charDollar;charHash;capitalAve;capitalLong;capitalTotal;type\n",
       "1;0;0            64;0     64;0;0                                             32;0;0;0;0;0;0;0         64;0;0;0;0    32;0;1        29;1                                     93;0;0                                             96;0;0;0;0;0;0;0;0;0;0;0;0;0;0;0;0;0;0;0;0;0;0;... 778;0;0;3                                        756;61;278;spam                                                                                                                                                                                                                                                                                                                                                                                              \n",
       "6;0;0;0;0;1      85;0;0;1 85;0;0;0;0;0;0;0;0;0;0;0;0;0;0;0;0;0;0;0;0;0;0;... 223;0;0;0;0;3;15;54;spam NaN           NaN           NaN                                      NaN                                                NaN                                                NaN                                                          NaN                                                                                                                                                                                                                                                                                                                                                                                              \n",
       "8;0;0;0;0;1      88;0;0;1 88;0;0;0;0;0;0;0;0;0;0;0;0;0;0;0;0;0;0;0;0;0;0;... 206;0;0;0;0;2            45;11;49;spam NaN           NaN                                      NaN                                                NaN                                                NaN                                                          NaN                                                                                                                                                                                                                                                                                                                                                                                              \n",
       "11;0;0;0;0;0;0;0 96;0;0;1 92;0                                               96;0;0;0;0;0;0;0         96;3          84;0;0        96;0;0;0;0;0;0;0;0;0;0;0;0;0;0;0;0;0;0;0 96;0;0;0;0;0;0;0;0;0;0;0;0                         462;0;0;1                                          312;6;21;spam                                                NaN                                                                                                                                                                                                                                                                                                                                                                                              \n",
       "14;0;0;0;0;0     9;0;0    9;0;0;0                                            9;0                      9;0;0         9;0;0;0;0;0;2 72;0;0                                   9;0;0;0;0;0;0;0;0;0;0;0;0;0;0;0;0;0;0;0;0;0;0;0... 083;7;25;spam                                      NaN                                                          NaN                                                                                                                                                                                                                                                                                                                                                                                              "
      ]
     },
     "execution_count": 6,
     "metadata": {},
     "output_type": "execute_result"
    }
   ],
   "source": [
    "spam.head()\n",
    "# spam.shape"
   ]
  },
  {
   "cell_type": "code",
   "execution_count": null,
   "metadata": {},
   "outputs": [],
   "source": [
    "# Wyznaczenie zbiorów danych wejściowych i wyjściowych\n",
    "\n",
    "X = spam.iloc[:, :-1].values\n",
    "y = spam.iloc[:, -1].values"
   ]
  },
  {
   "attachments": {},
   "cell_type": "markdown",
   "metadata": {},
   "source": [
    "## Skalowanie danych"
   ]
  },
  {
   "cell_type": "code",
   "execution_count": null,
   "metadata": {},
   "outputs": [],
   "source": [
    "from sklearn.preprocessing import StandardScaler, MinMaxScaler\n",
    "\n",
    "min_max_scaler = MinMaxScaler()\n",
    "X_minmax = min_max_scaler.fit_transform(X)\n",
    "\n",
    "# stand_scaler = StandardScaler()\n",
    "# X_stand= stand_scaler.fit_transform(X)"
   ]
  },
  {
   "cell_type": "code",
   "execution_count": null,
   "metadata": {},
   "outputs": [],
   "source": [
    "pd.DataFrame(X_minmax).describe()"
   ]
  },
  {
   "cell_type": "code",
   "execution_count": null,
   "metadata": {},
   "outputs": [],
   "source": [
    "# round(pd.DataFrame(X_stand).describe(), 4)"
   ]
  },
  {
   "attachments": {},
   "cell_type": "markdown",
   "metadata": {},
   "source": [
    "## Przygotowanie zbioru uczącego i testowy"
   ]
  },
  {
   "cell_type": "code",
   "execution_count": null,
   "metadata": {},
   "outputs": [],
   "source": [
    "from sklearn.model_selection import train_test_split"
   ]
  },
  {
   "cell_type": "code",
   "execution_count": null,
   "metadata": {},
   "outputs": [],
   "source": [
    "X_train, X_test, y_train, y_test = train_test_split(X_minmax, y, test_size=0.30)\n",
    "\n",
    "print(X_train.shape, X_test.shape)"
   ]
  },
  {
   "attachments": {},
   "cell_type": "markdown",
   "metadata": {},
   "source": [
    "## Algorytm *k*-nn"
   ]
  },
  {
   "cell_type": "code",
   "execution_count": null,
   "metadata": {},
   "outputs": [],
   "source": [
    "from sklearn.neighbors import KNeighborsClassifier"
   ]
  },
  {
   "cell_type": "code",
   "execution_count": null,
   "metadata": {},
   "outputs": [],
   "source": [
    "model_knn = KNeighborsClassifier(n_neighbors = 5)\n",
    "model_knn.fit(X_train, y_train)"
   ]
  },
  {
   "cell_type": "code",
   "execution_count": null,
   "metadata": {},
   "outputs": [],
   "source": [
    "y_pred = model_knn.predict(X_test)"
   ]
  },
  {
   "attachments": {},
   "cell_type": "markdown",
   "metadata": {},
   "source": [
    "### Ocena klasyfikatora"
   ]
  },
  {
   "cell_type": "code",
   "execution_count": null,
   "metadata": {},
   "outputs": [],
   "source": [
    "porownanie = [pred == rzecz for pred, rzecz in zip (y_pred, y_test)]\n",
    "print(sum(porownanie)/len(porownanie))"
   ]
  },
  {
   "cell_type": "code",
   "execution_count": null,
   "metadata": {},
   "outputs": [],
   "source": [
    "from sklearn.metrics import classification_report, confusion_matrix\n",
    "\n",
    "print(confusion_matrix(y_test, y_pred))\n",
    "print(classification_report(y_test, y_pred))"
   ]
  },
  {
   "attachments": {},
   "cell_type": "markdown",
   "metadata": {},
   "source": [
    "## Naiwny klasyfikator bayesowski"
   ]
  },
  {
   "cell_type": "code",
   "execution_count": null,
   "metadata": {},
   "outputs": [],
   "source": [
    "from sklearn.naive_bayes import GaussianNB"
   ]
  },
  {
   "cell_type": "code",
   "execution_count": null,
   "metadata": {},
   "outputs": [],
   "source": [
    "model_b = GaussianNB()\n",
    "model_b.fit(X_train, y_train)"
   ]
  },
  {
   "cell_type": "code",
   "execution_count": null,
   "metadata": {},
   "outputs": [],
   "source": [
    "y_pred = model_b.predict(X_test)"
   ]
  },
  {
   "attachments": {},
   "cell_type": "markdown",
   "metadata": {},
   "source": [
    "### Ocena klasyfikatora"
   ]
  },
  {
   "cell_type": "code",
   "execution_count": null,
   "metadata": {},
   "outputs": [],
   "source": [
    "porownanie = [pred == rzecz for pred, rzecz in zip (y_pred, y_test)]\n",
    "print(sum(porownanie)/len(porownanie))"
   ]
  },
  {
   "cell_type": "code",
   "execution_count": null,
   "metadata": {},
   "outputs": [],
   "source": [
    "print(confusion_matrix(y_test, y_pred))\n",
    "print(classification_report(y_test, y_pred))"
   ]
  }
 ],
 "metadata": {
  "kernelspec": {
   "display_name": "Python 3 (ipykernel)",
   "language": "python",
   "name": "python3"
  },
  "language_info": {
   "codemirror_mode": {
    "name": "ipython",
    "version": 3
   },
   "file_extension": ".py",
   "mimetype": "text/x-python",
   "name": "python",
   "nbconvert_exporter": "python",
   "pygments_lexer": "ipython3",
   "version": "3.10.5"
  }
 },
 "nbformat": 4,
 "nbformat_minor": 4
}
