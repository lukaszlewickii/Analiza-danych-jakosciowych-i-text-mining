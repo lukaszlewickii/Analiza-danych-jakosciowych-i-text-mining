{
 "cells": [
  {
   "cell_type": "code",
   "execution_count": 15,
   "metadata": {},
   "outputs": [],
   "source": [
    "import re\n",
    "import nltk"
   ]
  },
  {
   "cell_type": "code",
   "execution_count": 24,
   "metadata": {},
   "outputs": [],
   "source": [
    "tekst = 'przyslowia.txt'"
   ]
  },
  {
   "cell_type": "code",
   "execution_count": 30,
   "metadata": {},
   "outputs": [
    {
     "name": "stdout",
     "output_type": "stream",
     "text": [
      "['bartek', 'bartłomiej', 'bartłomieja', 'bez', 'będzie', 'całi', 'czego', 'czi', 'daje', 'dostatku', 'dożyjesz', 'dzień', 'i', 'jaka', 'jaki', 'jakiej', 'jesień', 'latku', 'marcin', 'następuj', 'naśladuj', 'nie', 'niesi', 'nim', 'ochybi', 'pogodna', 'pogodni', 'porz', 'przyszłym', 'taka', 'taki', 'taką', 'tego', 'urodzi', 'w', 'wiosna', 'wrzesień', 'z', 'zasiała', 'zima', 'zostaj', 'zrodzi', 'zwiastuj', 'św', 'świętego']\n"
     ]
    }
   ],
   "source": [
    "import re\n",
    "import nltk\n",
    "from nltk.stem.snowball import SnowballStemmer\n",
    "\n",
    "def cleaned_text(saying):\n",
    "    # normalizacja tekstu\n",
    "    myslnik = re.compile(\"[\"u\"\\u2013\"\"]+\", flags = re.UNICODE)\n",
    "    temp = re.sub(myslnik, \"\", saying)\n",
    "    temp = re.sub(\"\\s{2,}\", \" \", temp) #usunięcie podwójnych spacji\n",
    "    temp = re.sub(\"(\\r\\n|\\r|\\n)\", \" \", temp) #usunięcie przerw między słowami, entery\n",
    "    temp = temp.lower() #zamienia wszystkie znaki na małe litery\n",
    "    #temp = re.sub(\"rt\", \"\", temp) #usunięcie retweetów\n",
    "    #temp = re.sub(\"&amp\", \"\", temp) #usunięcie kodu htmlowego\n",
    "    #temp = re.sub(\"#[a-z,A-Z]*\", \"\", temp) #usunięcie hasztagów\n",
    "    #temp = re.sub(\"@\\w+\", \"\", temp) #usunięcie wzmianek, oznaczeń, tagowań\n",
    "    #temp = re.sub(\"(f|ht)(tp)([^ ]*)\", \"\", temp) #usunięcie urlów\n",
    "    #temp = re.sub(\"http(s?)([^ ]*)\", \"\", temp) #usunięcie urlów\n",
    "    temp = re.sub(\"[!\\\"#$%&'()*+,-./:;<=>?@[\\]^_`{|}~]\", \" \", temp) #usunięcie znaków specjalnych\n",
    "    temp = re.sub(\"\\d\", \"\", temp) #usunięcie cyfr\n",
    "    temp = re.sub(\"\\s{2,}\", \" \", temp) #ponowne usunięcie podwójnych spacji\n",
    "    temp = re.sub(\"[^\\w\\s]\", \"\", temp) #usunięcie znaków specjalnych\n",
    "    temp = temp.strip() #usunięcie spacji lub odstępów na końcach tekstu\n",
    "    \n",
    "    #tokenizacja\n",
    "    cleaned_and_tokenized = nltk.word_tokenize(temp)\n",
    "    \n",
    "    # stemming\n",
    "    stemmer = SnowballStemmer(\"english\")\n",
    "    stemmed_words = [stemmer.stem(word) for word in cleaned_and_tokenized]\n",
    "    \n",
    "    return stemmed_words\n",
    "\n",
    "with open(\"przyslowia.txt\", \"r\", encoding=\"utf8\") as file:\n",
    "    content = file.read()\n",
    "\n",
    "cleaned_and_stemmed = []\n",
    "for saying in content.split(\"\\n\"):\n",
    "    cleaned_and_stemmed.extend(cleaned_text(saying))\n",
    "\n",
    "unique_words = set(cleaned_and_stemmed)\n",
    "print(sorted(unique_words))"
   ]
  }
 ],
 "metadata": {
  "kernelspec": {
   "display_name": "Python 3",
   "language": "python",
   "name": "python3"
  },
  "language_info": {
   "codemirror_mode": {
    "name": "ipython",
    "version": 3
   },
   "file_extension": ".py",
   "mimetype": "text/x-python",
   "name": "python",
   "nbconvert_exporter": "python",
   "pygments_lexer": "ipython3",
   "version": "3.10.5"
  },
  "orig_nbformat": 4
 },
 "nbformat": 4,
 "nbformat_minor": 2
}
